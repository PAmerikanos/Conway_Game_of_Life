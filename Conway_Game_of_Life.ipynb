{
  "nbformat": 4,
  "nbformat_minor": 5,
  "metadata": {
    "kernelspec": {
      "display_name": "Python 3",
      "language": "python",
      "name": "python3"
    },
    "language_info": {
      "codemirror_mode": {
        "name": "ipython",
        "version": 3
      },
      "file_extension": ".py",
      "mimetype": "text/x-python",
      "name": "python",
      "nbconvert_exporter": "python",
      "pygments_lexer": "ipython3",
      "version": "3.8.5"
    },
    "colab": {
      "name": "Conway_Game_of_Life.ipynb",
      "provenance": [],
      "collapsed_sections": []
    }
  },
  "cells": [
    {
      "cell_type": "markdown",
      "metadata": {
        "id": "1bfa9567"
      },
      "source": [
        "# Conway's Game of Life\n",
        "- https://en.wikipedia.org/wiki/Conway%27s_Game_of_Life\n",
        "- https://www.youtube.com/watch?v=C2vgICfQawE"
      ],
      "id": "1bfa9567"
    },
    {
      "cell_type": "code",
      "metadata": {
        "id": "15f91484"
      },
      "source": [
        "# Import required libraries\n",
        "\n",
        "%matplotlib inline\n",
        "from matplotlib.pyplot import imshow\n",
        "import matplotlib.pyplot as plt\n",
        "from matplotlib import colors\n",
        "from IPython.display import display, clear_output\n",
        "import numpy as np"
      ],
      "id": "15f91484",
      "execution_count": null,
      "outputs": []
    },
    {
      "cell_type": "code",
      "metadata": {
        "id": "6640def1"
      },
      "source": [
        "class Environment():\n",
        "\n",
        "    def plot_grid(self):\n",
        "        fig, ax = plt.subplots(figsize=(9, 9))\n",
        "        ax.imshow(self.grid * 255, cmap=colors.ListedColormap(['navy', 'orange']))\n",
        "        plt.show()\n",
        "\n",
        "    def next_step(self):\n",
        "        next_step_grid = np.zeros(self.grid.shape)\n",
        "        \n",
        "        # Loop through all cells storing necessary changes into next_step_grid\n",
        "        for x in range(1, self.grid.shape[0]-1):\n",
        "            for y in range(1, self.grid.shape[1]-1):\n",
        "                # check cell status and count neighbors\n",
        "                live_neighbors = self.grid[x-1:x+2, y-1:y+2].sum()\n",
        "                if self.grid[x, y] == 1: live_neighbors -= 1  # Remove count of current/middle pixel\n",
        "                # apply rules\n",
        "                # Any live cell with fewer than two live neighbours dies, as if by underpopulation.\n",
        "                if self.grid[x, y] == 1 and live_neighbors < 2:\n",
        "                    next_step_grid[x, y] = 0\n",
        "                # Any live cell with two or three live neighbours lives on to the next generation.\n",
        "                elif self.grid[x, y] == 1 and (live_neighbors == 2 or live_neighbors == 3):\n",
        "                    next_step_grid[x, y] = 1\n",
        "                # Any live cell with more than three live neighbours dies, as if by overpopulation.\n",
        "                elif self.grid[x, y] == 1 and live_neighbors > 3:\n",
        "                    next_step_grid[x, y] = 0\n",
        "                # Any dead cell with exactly three live neighbours becomes a live cell, as if by reproduction.\n",
        "                elif self.grid[x, y] == 0 and live_neighbors == 3:\n",
        "                    next_step_grid[x, y] = 1\n",
        "                # Rest of dead cells remain dead.\n",
        "                elif self.grid[x, y] == 0 and live_neighbors != 3:\n",
        "                    next_step_grid[x, y] = 0\n",
        "\n",
        "        return next_step_grid\n",
        "    \n",
        "    def let_er_rip(self, steps: int):\n",
        "        for step in range(steps):\n",
        "            next_step_grid = self.next_step()\n",
        "            if np.array_equal(self.grid, next_step_grid):\n",
        "                break  # If no changes, stop iterating\n",
        "            else:\n",
        "                self.grid = next_step_grid\n",
        "            clear_output(wait=True)\n",
        "            print(\"Step:\", str(step+1))\n",
        "            self.plot_grid()\n",
        "\n",
        "\n",
        "class Seeded_Environment(Environment):\n",
        "\n",
        "    def __init__(self, dims: tuple, start_coord: tuple, seed: np.ndarray):\n",
        "        self.grid = np.zeros(dims)\n",
        "        end_coord = tuple(map(sum, zip(start_coord, seed.shape)))\n",
        "        self.grid[start_coord[0]:end_coord[0], start_coord[1]:end_coord[1]] = seed\n",
        "\n",
        "\n",
        "class Random_Environment(Environment):\n",
        "\n",
        "    def __init__(self, dims: tuple, true_p: float):\n",
        "        self.grid = np.random.choice(a=[1, 0], size=dims, p=[true_p, 1-true_p])"
      ],
      "id": "6640def1",
      "execution_count": null,
      "outputs": []
    },
    {
      "cell_type": "code",
      "metadata": {
        "colab": {
          "base_uri": "https://localhost:8080/",
          "height": 556
        },
        "id": "KFB3eRIPRN6g",
        "outputId": "dcae6ea5-1dae-4719-b941-08d4c3225eee"
      },
      "source": [
        "seed = np.array([[0, 0, 1],\n",
        "                 [1, 0, 1],\n",
        "                 [0, 1, 1]])\n",
        "\n",
        "seed_env = Seeded_Environment((100,100), (2, 2), seed)\n",
        "seed_env.let_er_rip(1000)"
      ],
      "id": "KFB3eRIPRN6g",
      "execution_count": null,
      "outputs": [
        {
          "output_type": "stream",
          "text": [
            "Step: 379\n"
          ],
          "name": "stdout"
        },
        {
          "output_type": "display_data",
          "data": {
            "image/png": "[encoded data removed]",
            "text/plain": [
              "<Figure size 648x648 with 1 Axes>"
            ]
          },
          "metadata": {
            "tags": [],
            "needs_background": "light"
          }
        }
      ]
    },
    {
      "cell_type": "code",
      "metadata": {
        "colab": {
          "base_uri": "https://localhost:8080/",
          "height": 556
        },
        "id": "QsV8UEnLSmI4",
        "outputId": "7d0ca2dd-c0b7-4ad0-d498-cd281b0b51d7"
      },
      "source": [
        "rnd_env = Random_Environment((100,100), 0.1)\n",
        "rnd_env.let_er_rip(1000)"
      ],
      "id": "QsV8UEnLSmI4",
      "execution_count": null,
      "outputs": [
        {
          "output_type": "stream",
          "text": [
            "Step: 1000\n"
          ],
          "name": "stdout"
        },
        {
          "output_type": "display_data",
          "data": {
            "image/png": "[encoded data removed]",
            "text/plain": [
              "<Figure size 648x648 with 1 Axes>"
            ]
          },
          "metadata": {
            "tags": [],
            "needs_background": "light"
          }
        }
      ]
    },
    {
      "cell_type": "markdown",
      "metadata": {
        "id": "e264c7ad"
      },
      "source": [
        "### Possible improvements\n",
        "- Check boundary conditions; they are special cases not given required attention here."
      ],
      "id": "e264c7ad"
    }
  ]
}